{
  "nbformat": 4,
  "nbformat_minor": 0,
  "metadata": {
    "colab": {
      "provenance": [],
      "authorship_tag": "ABX9TyNxCwu1I6Yu8wlaHiJedaVl",
      "include_colab_link": true
    },
    "kernelspec": {
      "name": "python3",
      "display_name": "Python 3"
    },
    "language_info": {
      "name": "python"
    }
  },
  "cells": [
    {
      "cell_type": "markdown",
      "metadata": {
        "id": "view-in-github",
        "colab_type": "text"
      },
      "source": [
        "<a href=\"https://colab.research.google.com/github/HenryDumebi/HenryDumebi/blob/main/Untitled0.ipynb\" target=\"_parent\"><img src=\"https://colab.research.google.com/assets/colab-badge.svg\" alt=\"Open In Colab\"/></a>"
      ]
    },
    {
      "cell_type": "code",
      "execution_count": 1,
      "metadata": {
        "colab": {
          "base_uri": "https://localhost:8080/"
        },
        "id": "xiDPLDOHsyu8",
        "outputId": "0d9ce188-3bc5-4c7b-a59f-a091b08f9bb8"
      },
      "outputs": [
        {
          "output_type": "stream",
          "name": "stdout",
          "text": [
            "12\n",
            "HelloWorld\n"
          ]
        }
      ],
      "source": [
        "x=34-23\n",
        "y=\"Hello\"\n",
        "z=3.45\n",
        "if z ==3.45 or y == \"Hello\":\n",
        "  x = x+1\n",
        "  y = y + \"World\"\n",
        "  print (x)\n",
        "  print (y)"
      ]
    }
  ]
}